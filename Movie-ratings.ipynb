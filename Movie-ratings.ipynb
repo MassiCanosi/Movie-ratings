{
 "cells": [
  {
   "cell_type": "markdown",
   "metadata": {},
   "source": [
    "#### OMDB AND TasteDive"
   ]
  },
  {
   "cell_type": "markdown",
   "metadata": {},
   "source": [
    "<!-- \n",
    "author: massimiliano.canosi\n",
    "place: Milan\n",
    "date: 2023-09-02 \n",
    "-->"
   ]
  },
  {
   "cell_type": "code",
   "execution_count": 24,
   "metadata": {},
   "outputs": [],
   "source": [
    "import requests \n",
    "import json \n",
    "import requests_with_caching"
   ]
  },
  {
   "cell_type": "code",
   "execution_count": 25,
   "metadata": {},
   "outputs": [],
   "source": [
    "movie_title = 'your_title_here'"
   ]
  },
  {
   "cell_type": "code",
   "execution_count": 34,
   "metadata": {},
   "outputs": [],
   "source": [
    "def get_movies_from_tastedive(movie_title):\n",
    "    base_url = 'https://tastedive.com/api/similar'\n",
    "    request = {'q': movie_title, 'type': 'movies', 'limit': 5}\n",
    "    response = requests_with_caching.get(base_url, params = request)\n",
    "    return (response.json())\n"
   ]
  },
  {
   "cell_type": "markdown",
   "metadata": {},
   "source": [
    "get_movies_from_tastedive - Example"
   ]
  },
  {
   "cell_type": "code",
   "execution_count": null,
   "metadata": {},
   "outputs": [],
   "source": [
    "# {\n",
    "#      \"Similar\": {\n",
    "#          \"Info\": [\n",
    "#              {\n",
    "#                  \"Name\": \"Black Panther\",\n",
    "#                  \"Type\": \"movie\"\n",
    "#              }\n",
    "#          ],\n",
    "#          \"Results\": [\n",
    "#              {\n",
    "#                  \"Name\": \"Captain Marvel\",\n",
    "#                  \"Type\": \"movie\"\n",
    "#              },\n",
    "#              {\n",
    "#                  \"Name\": \"Avengers: Infinity War\",\n",
    "#                  \"Type\": \"movie\"\n",
    "#              },\n",
    "#              {\n",
    "#                  \"Name\": \"Ant-Man And The Wasp\",\n",
    "#                  \"Type\": \"movie\"\n",
    "#              },\n",
    "#              {\n",
    "#                  \"Name\": \"The Fate Of The Furious\",\n",
    "#                  \"Type\": \"movie\"\n",
    "#              },\n",
    "#              {\n",
    "#                  \"Name\": \"Deadpool 2\",\n",
    "#                  \"Type\": \"movie\"\n",
    "#              }\n",
    "#          ]\n",
    "#      }\n",
    "#  } "
   ]
  },
  {
   "cell_type": "markdown",
   "metadata": {},
   "source": [
    "Movie Titles"
   ]
  },
  {
   "cell_type": "code",
   "execution_count": 122,
   "metadata": {},
   "outputs": [],
   "source": [
    "def extract_movie_titles(my_dict):\n",
    "    lst = [element['Name'] for element in my_dict['Similar']['Results']]\n",
    "    return(lst)"
   ]
  },
  {
   "cell_type": "markdown",
   "metadata": {},
   "source": [
    "extract_movie_titles - Example"
   ]
  },
  {
   "cell_type": "code",
   "execution_count": null,
   "metadata": {},
   "outputs": [],
   "source": [
    "# ['The Startup Kids', 'Charlie Chaplin', 'Venus In Fur', 'Loving', 'The African Queen']"
   ]
  },
  {
   "cell_type": "markdown",
   "metadata": {},
   "source": [
    "Related Titles"
   ]
  },
  {
   "cell_type": "code",
   "execution_count": 123,
   "metadata": {},
   "outputs": [],
   "source": [
    "def get_related_titles(titles_lst):\n",
    "    otp = []\n",
    "    for title in titles_lst:\n",
    "        mv_lst = extract_movie_titles(get_movies_from_tastedive(title))\n",
    "        for movie in mv_lst:\n",
    "            if movie not in otp:\n",
    "                otp.append(movie)\n",
    "    return(otp)"
   ]
  },
  {
   "cell_type": "markdown",
   "metadata": {},
   "source": [
    "get_related_titles - Example"
   ]
  },
  {
   "cell_type": "code",
   "execution_count": null,
   "metadata": {},
   "outputs": [],
   "source": [
    "# ['Captain Marvel', 'Avengers: Infinity War', 'Ant-Man And The Wasp', 'The Fate Of The Furious', 'Deadpool 2', 'Inhumans', 'Venom', 'American Assassin', 'Black Panther']"
   ]
  },
  {
   "cell_type": "code",
   "execution_count": 124,
   "metadata": {},
   "outputs": [],
   "source": [
    "def get_movie_data(OMDb_title):\n",
    "    base_url = 'http://www.omdbapi.com/'\n",
    "    request = {'t': OMDb_title, 'r': 'json'}\n",
    "    response = requests_with_caching.get(base_url, params = request)\n",
    "    return(response.json())"
   ]
  },
  {
   "cell_type": "markdown",
   "metadata": {},
   "source": [
    "get_movie_data - Example"
   ]
  },
  {
   "cell_type": "code",
   "execution_count": null,
   "metadata": {},
   "outputs": [],
   "source": [
    "# OMDb_dict = {\n",
    "#     'Title': 'Baby Mama',\n",
    "#     'Year': '2008',\n",
    "#     'Rated': 'PG-13',\n",
    "#     'Released': '25 Apr 2008',\n",
    "#     'Runtime': '99 min',\n",
    "#     'Genre': 'Comedy, Romance',\n",
    "#     'Director': 'Michael McCullers',\n",
    "#     'Writer': 'Michael McCullers',\n",
    "#     'Actors': 'Amy Poehler, Tina Fey, Greg Kinnear, Dax Shepard',\n",
    "#     'Plot': 'A successful, single businesswoman who dreams of having a baby discovers she is infertile and hires a working class woman to be her unlikely surrogate.',\n",
    "#     'Language': 'English',\n",
    "#     'Country': 'USA',\n",
    "#     'Awards': '1 win & 5 nominations.',\n",
    "#     'Poster': 'https://m.media-amazon.com/images/M/MV5BMTYwNTc1Nzk1N15BMl5BanBnXkFtZTcwNjE4OTI2MQ@@._V1_SX300.jpg',\n",
    "#     'Ratings': [\n",
    "#         {'Source': 'Internet Movie Database', 'Value': '6.0/10'},\n",
    "#         {'Source': 'Rotten Tomatoes', 'Value': '64%'},\n",
    "#         {'Source': 'Metacritic', 'Value': '55/100'}\n",
    "#     ],\n",
    "#     'Metascore': '55',\n",
    "#     'imdbRating': '6.0',\n",
    "#     'imdbVotes': '37,454',\n",
    "#     'imdbID': 'tt0871426',\n",
    "#     'Type': 'movie',\n",
    "#     'DVD': '09 Sep 2008',\n",
    "#     'BoxOffice': '$60,269,340',\n",
    "#     'Production': 'Universal Pictures',\n",
    "#     'Website': 'http://www.babymamamovie.net/',\n",
    "#     'Response': 'True'  \n",
    "# }"
   ]
  },
  {
   "cell_type": "code",
   "execution_count": 68,
   "metadata": {},
   "outputs": [],
   "source": [
    "def get_movie_rating(OMDb_dict):\n",
    "    for i in OMDb_dict['Ratings']:\n",
    "        if i['Source'] == 'Rotten Tomatoes' and i['Value'] != '':\n",
    "            rating = i['Value'][:-1]\n",
    "            break\n",
    "        else:\n",
    "            rating = '0'\n",
    "    return(int(rating))"
   ]
  },
  {
   "cell_type": "code",
   "execution_count": 2,
   "metadata": {},
   "outputs": [],
   "source": [
    "def get_sorted_recommendations(final_lst):\n",
    "    reccomendations = get_related_titles(final_lst)\n",
    "    movie_rating_pair = {}\n",
    "    for movie in reccomendations:\n",
    "        if movie not in movie_rating_pair:\n",
    "            movie_rating_pair[movie] = get_movie_rating(get_movie_data(movie))\n",
    "    sorting_by_value = lambda x: x[1]\n",
    "    sorting_by_alph = lambda x: x[0][0]\n",
    "    otp = [i[0] for i in sorted(movie_rating_pair.items(), key = lambda x: (sorting_by_value(x), sorting_by_alph(x)), reverse=True)]\n",
    "    return (otp)"
   ]
  }
 ],
 "metadata": {
  "kernelspec": {
   "display_name": "base",
   "language": "python",
   "name": "python3"
  },
  "language_info": {
   "codemirror_mode": {
    "name": "ipython",
    "version": 3
   },
   "file_extension": ".py",
   "mimetype": "text/x-python",
   "name": "python",
   "nbconvert_exporter": "python",
   "pygments_lexer": "ipython3",
   "version": "3.11.4"
  },
  "orig_nbformat": 4
 },
 "nbformat": 4,
 "nbformat_minor": 2
}
